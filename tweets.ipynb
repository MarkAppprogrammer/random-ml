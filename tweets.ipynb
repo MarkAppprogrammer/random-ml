{
 "cells": [
  {
   "cell_type": "code",
   "execution_count": 1,
   "id": "eb8f121c",
   "metadata": {
    "_cell_guid": "b1076dfc-b9ad-4769-8c92-a6c4dae69d19",
    "_uuid": "8f2839f25d086af736a60e9eeb907d3b93b6e0e5",
    "execution": {
     "iopub.execute_input": "2025-04-30T05:14:41.713997Z",
     "iopub.status.busy": "2025-04-30T05:14:41.713701Z",
     "iopub.status.idle": "2025-04-30T05:14:43.942323Z",
     "shell.execute_reply": "2025-04-30T05:14:43.941487Z"
    },
    "papermill": {
     "duration": 2.234958,
     "end_time": "2025-04-30T05:14:43.944032",
     "exception": false,
     "start_time": "2025-04-30T05:14:41.709074",
     "status": "completed"
    },
    "tags": []
   },
   "outputs": [],
   "source": [
    "import numpy as np \n",
    "import pandas as pd"
   ]
  },
  {
   "cell_type": "markdown",
   "id": "8a113961",
   "metadata": {
    "papermill": {
     "duration": 0.002541,
     "end_time": "2025-04-30T05:14:43.949841",
     "exception": false,
     "start_time": "2025-04-30T05:14:43.947300",
     "status": "completed"
    },
    "tags": []
   },
   "source": [
    "# Approaches\n",
    "Our first apporach is to just use the text and pass it through an Naive Bayes.\n",
    "\n",
    "We may use the keyword/loc in late user\n",
    "\n",
    "LLM?"
   ]
  },
  {
   "cell_type": "code",
   "execution_count": 2,
   "id": "5f2c402e",
   "metadata": {
    "execution": {
     "iopub.execute_input": "2025-04-30T05:14:43.956414Z",
     "iopub.status.busy": "2025-04-30T05:14:43.956009Z",
     "iopub.status.idle": "2025-04-30T05:14:44.055878Z",
     "shell.execute_reply": "2025-04-30T05:14:44.054917Z"
    },
    "papermill": {
     "duration": 0.105206,
     "end_time": "2025-04-30T05:14:44.057679",
     "exception": false,
     "start_time": "2025-04-30T05:14:43.952473",
     "status": "completed"
    },
    "tags": []
   },
   "outputs": [],
   "source": [
    "df = pd.read_csv(\"/kaggle/input/nlp-getting-started/train.csv\")"
   ]
  },
  {
   "cell_type": "code",
   "execution_count": 3,
   "id": "f748c4cb",
   "metadata": {
    "execution": {
     "iopub.execute_input": "2025-04-30T05:14:44.064654Z",
     "iopub.status.busy": "2025-04-30T05:14:44.064132Z",
     "iopub.status.idle": "2025-04-30T05:14:44.082623Z",
     "shell.execute_reply": "2025-04-30T05:14:44.081885Z"
    },
    "papermill": {
     "duration": 0.023452,
     "end_time": "2025-04-30T05:14:44.084050",
     "exception": false,
     "start_time": "2025-04-30T05:14:44.060598",
     "status": "completed"
    },
    "tags": []
   },
   "outputs": [],
   "source": [
    "df = df.drop([\"keyword\", \"location\"], axis=1)\n",
    "\n",
    "y_train = df[\"target\"]\n",
    "df = df.drop(\"target\", axis=1)"
   ]
  },
  {
   "cell_type": "code",
   "execution_count": 4,
   "id": "413a2c22",
   "metadata": {
    "execution": {
     "iopub.execute_input": "2025-04-30T05:14:44.091118Z",
     "iopub.status.busy": "2025-04-30T05:14:44.090846Z",
     "iopub.status.idle": "2025-04-30T05:14:48.149954Z",
     "shell.execute_reply": "2025-04-30T05:14:48.148823Z"
    },
    "papermill": {
     "duration": 4.064686,
     "end_time": "2025-04-30T05:14:48.151696",
     "exception": false,
     "start_time": "2025-04-30T05:14:44.087010",
     "status": "completed"
    },
    "tags": []
   },
   "outputs": [],
   "source": [
    "from nltk import word_tokenize\n",
    "X_train = df[\"text\"].apply(word_tokenize)\n",
    "X_train_text = X_train.apply(lambda tokens: ' '.join(tokens))"
   ]
  },
  {
   "cell_type": "code",
   "execution_count": 5,
   "id": "6fa0cd66",
   "metadata": {
    "execution": {
     "iopub.execute_input": "2025-04-30T05:14:48.162403Z",
     "iopub.status.busy": "2025-04-30T05:14:48.161985Z",
     "iopub.status.idle": "2025-04-30T05:14:48.655089Z",
     "shell.execute_reply": "2025-04-30T05:14:48.654104Z"
    },
    "papermill": {
     "duration": 0.498811,
     "end_time": "2025-04-30T05:14:48.656792",
     "exception": false,
     "start_time": "2025-04-30T05:14:48.157981",
     "status": "completed"
    },
    "tags": []
   },
   "outputs": [],
   "source": [
    "from sklearn.feature_extraction.text import CountVectorizer\n",
    "vectorizer = CountVectorizer()\n",
    "X_train_vec = vectorizer.fit_transform(X_train_text).toarray()"
   ]
  },
  {
   "cell_type": "code",
   "execution_count": 6,
   "id": "25f9d182",
   "metadata": {
    "execution": {
     "iopub.execute_input": "2025-04-30T05:14:48.664561Z",
     "iopub.status.busy": "2025-04-30T05:14:48.664274Z",
     "iopub.status.idle": "2025-04-30T05:14:48.667826Z",
     "shell.execute_reply": "2025-04-30T05:14:48.667143Z"
    },
    "papermill": {
     "duration": 0.008359,
     "end_time": "2025-04-30T05:14:48.669266",
     "exception": false,
     "start_time": "2025-04-30T05:14:48.660907",
     "status": "completed"
    },
    "tags": []
   },
   "outputs": [],
   "source": [
    "# from nltk import word_tokenize \n",
    "\n",
    "# X_train = df[\"text\"].apply(word_tokenize)"
   ]
  },
  {
   "cell_type": "code",
   "execution_count": 7,
   "id": "9220c685",
   "metadata": {
    "execution": {
     "iopub.execute_input": "2025-04-30T05:14:48.676118Z",
     "iopub.status.busy": "2025-04-30T05:14:48.675858Z",
     "iopub.status.idle": "2025-04-30T05:14:48.690366Z",
     "shell.execute_reply": "2025-04-30T05:14:48.689628Z"
    },
    "papermill": {
     "duration": 0.019444,
     "end_time": "2025-04-30T05:14:48.691930",
     "exception": false,
     "start_time": "2025-04-30T05:14:48.672486",
     "status": "completed"
    },
    "tags": []
   },
   "outputs": [],
   "source": [
    "import re\n",
    "from sklearn.naive_bayes import GaussianNB\n",
    "from sklearn.metrics import confusion_matrix\n",
    "from sklearn.feature_extraction.text import CountVectorizer"
   ]
  },
  {
   "cell_type": "code",
   "execution_count": 8,
   "id": "1bd65150",
   "metadata": {
    "execution": {
     "iopub.execute_input": "2025-04-30T05:14:48.698341Z",
     "iopub.status.busy": "2025-04-30T05:14:48.698061Z",
     "iopub.status.idle": "2025-04-30T05:14:49.371064Z",
     "shell.execute_reply": "2025-04-30T05:14:49.369880Z"
    },
    "papermill": {
     "duration": 0.677893,
     "end_time": "2025-04-30T05:14:49.372556",
     "exception": false,
     "start_time": "2025-04-30T05:14:48.694663",
     "status": "completed"
    },
    "tags": []
   },
   "outputs": [
    {
     "name": "stdout",
     "output_type": "stream",
     "text": [
      "[[0 0 0 ... 0 0 0]\n",
      " [0 0 0 ... 0 0 0]\n",
      " [0 0 0 ... 0 0 0]\n",
      " ...\n",
      " [0 0 0 ... 0 0 0]\n",
      " [0 0 0 ... 0 0 0]\n",
      " [0 0 0 ... 0 0 0]]\n"
     ]
    }
   ],
   "source": [
    "#test data\n",
    "df_test = pd.read_csv(\"/kaggle/input/nlp-getting-started/test.csv\")\n",
    "\n",
    "X_test = df_test.pop(\"text\")\n",
    "X_test = X_test.apply(word_tokenize)\n",
    "X_test_text = X_test.apply(lambda tokens: ' '.join(tokens))\n",
    "\n",
    "X_test_vec = vectorizer.transform(X_test_text).toarray()\n",
    "print(X_test_vec)"
   ]
  },
  {
   "cell_type": "code",
   "execution_count": 9,
   "id": "9c2d8063",
   "metadata": {
    "execution": {
     "iopub.execute_input": "2025-04-30T05:14:49.379696Z",
     "iopub.status.busy": "2025-04-30T05:14:49.379350Z",
     "iopub.status.idle": "2025-04-30T05:14:54.401891Z",
     "shell.execute_reply": "2025-04-30T05:14:54.401112Z"
    },
    "papermill": {
     "duration": 5.027888,
     "end_time": "2025-04-30T05:14:54.403552",
     "exception": false,
     "start_time": "2025-04-30T05:14:49.375664",
     "status": "completed"
    },
    "tags": []
   },
   "outputs": [],
   "source": [
    "classifier = GaussianNB();\n",
    "classifier.fit(X_train_vec, y_train)\n",
    "\n",
    "y_pred = classifier.predict(X_test_vec)"
   ]
  },
  {
   "cell_type": "code",
   "execution_count": 10,
   "id": "86d95235",
   "metadata": {
    "execution": {
     "iopub.execute_input": "2025-04-30T05:14:54.411026Z",
     "iopub.status.busy": "2025-04-30T05:14:54.410723Z",
     "iopub.status.idle": "2025-04-30T05:14:54.439402Z",
     "shell.execute_reply": "2025-04-30T05:14:54.438551Z"
    },
    "papermill": {
     "duration": 0.034437,
     "end_time": "2025-04-30T05:14:54.441085",
     "exception": false,
     "start_time": "2025-04-30T05:14:54.406648",
     "status": "completed"
    },
    "tags": []
   },
   "outputs": [],
   "source": [
    "submission = pd.read_csv('/kaggle/input/nlp-getting-started/sample_submission.csv')\n",
    "\n",
    "submission['target'] = y_pred\n",
    "\n",
    "submission.to_csv('submission.csv', index=False)"
   ]
  },
  {
   "cell_type": "code",
   "execution_count": 11,
   "id": "15295434",
   "metadata": {
    "execution": {
     "iopub.execute_input": "2025-04-30T05:14:54.448439Z",
     "iopub.status.busy": "2025-04-30T05:14:54.448149Z",
     "iopub.status.idle": "2025-04-30T05:14:54.451963Z",
     "shell.execute_reply": "2025-04-30T05:14:54.451055Z"
    },
    "papermill": {
     "duration": 0.008877,
     "end_time": "2025-04-30T05:14:54.453193",
     "exception": false,
     "start_time": "2025-04-30T05:14:54.444316",
     "status": "completed"
    },
    "tags": []
   },
   "outputs": [],
   "source": [
    "# with open(\"submisson.csv\", \"w\") as file:\n",
    "#     file.write(\"id, target \\n\")\n",
    "    \n",
    "#     for i, pred in enumerate(y_pred):\n",
    "#         file.write(str(i) + \", \" + str(pred) + \"\\n\")"
   ]
  },
  {
   "cell_type": "code",
   "execution_count": null,
   "id": "63fc46aa",
   "metadata": {
    "papermill": {
     "duration": 0.00245,
     "end_time": "2025-04-30T05:14:54.458442",
     "exception": false,
     "start_time": "2025-04-30T05:14:54.455992",
     "status": "completed"
    },
    "tags": []
   },
   "outputs": [],
   "source": []
  }
 ],
 "metadata": {
  "kaggle": {
   "accelerator": "none",
   "dataSources": [
    {
     "databundleVersionId": 869809,
     "sourceId": 17777,
     "sourceType": "competition"
    }
   ],
   "dockerImageVersionId": 31012,
   "isGpuEnabled": false,
   "isInternetEnabled": false,
   "language": "python",
   "sourceType": "notebook"
  },
  "kernelspec": {
   "display_name": "Python 3",
   "language": "python",
   "name": "python3"
  },
  "language_info": {
   "codemirror_mode": {
    "name": "ipython",
    "version": 3
   },
   "file_extension": ".py",
   "mimetype": "text/x-python",
   "name": "python",
   "nbconvert_exporter": "python",
   "pygments_lexer": "ipython3",
   "version": "3.11.11"
  },
  "papermill": {
   "default_parameters": {},
   "duration": 18.943428,
   "end_time": "2025-04-30T05:14:55.281493",
   "environment_variables": {},
   "exception": null,
   "input_path": "__notebook__.ipynb",
   "output_path": "__notebook__.ipynb",
   "parameters": {},
   "start_time": "2025-04-30T05:14:36.338065",
   "version": "2.6.0"
  }
 },
 "nbformat": 4,
 "nbformat_minor": 5
}
